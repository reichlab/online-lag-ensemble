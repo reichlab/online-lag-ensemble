{
 "cells": [
  {
   "cell_type": "markdown",
   "metadata": {},
   "source": [
    "# Train (multibin)\n",
    "\n",
    "This notebook explores weighing over the multibin loss function."
   ]
  },
  {
   "cell_type": "code",
   "execution_count": null,
   "metadata": {},
   "outputs": [],
   "source": [
    "%load_ext autoreload\n",
    "%autoreload 2\n",
    "%matplotlib inline\n",
    "\n",
    "import numpy as np\n",
    "import pandas as pd\n",
    "import xarray as xr\n",
    "import matplotlib.pyplot as plt\n",
    "np.random.seed(1234)\n",
    "\n",
    "import sys\n",
    "sys.path.append(\"../src\")\n",
    "from utils import data as udata\n",
    "from utils import dists as udists\n",
    "from utils import misc as u\n",
    "from truth import mask_truths, impute, FILL_SPACE\n",
    "from predictors import make_predictor\n",
    "import losses\n",
    "from pymmwr import Epiweek\n",
    "from tqdm import tqdm, trange\n",
    "import ledge.merge as merge\n",
    "import ledge.update as update\n",
    "import ledge.fill as fill\n",
    "from functools import partial\n",
    "from hyperopt import fmin, tpe, hp, STATUS_OK, Trials\n",
    "import hyperopt.pyll.stochastic as st\n",
    "import json\n",
    "import os.path as path\n",
    "import inspect"
   ]
  },
  {
   "cell_type": "code",
   "execution_count": null,
   "metadata": {},
   "outputs": [],
   "source": [
    "EXP_DIR = \"../data/processed/cdc-flusight-ensemble/\"\n",
    "OUTPUT_DIR = \"../models/cdc-flusight-ensemble/\"\n",
    "TARGET = \"1-ahead\"\n",
    "REGION = \"nat\"\n",
    "MAX_LAG = 29\n",
    "TRAINING_SEASONS = list(range(2010, 2014))\n",
    "LOSS_FN = partial(losses.logloss, multibin=True)\n",
    "MERGE_FN = merge.latest"
   ]
  },
  {
   "cell_type": "code",
   "execution_count": null,
   "metadata": {},
   "outputs": [],
   "source": [
    "components = [udata.Component(EXP_DIR, m) for m in udata.available_models(EXP_DIR)]\n",
    "ad = udata.ActualData(EXP_DIR)"
   ]
  },
  {
   "cell_type": "markdown",
   "metadata": {},
   "source": [
    "# Evaluation"
   ]
  },
  {
   "cell_type": "code",
   "execution_count": null,
   "metadata": {},
   "outputs": [],
   "source": [
    "def evaluate(predictor, loss_fn):\n",
    "    \"\"\"\n",
    "    Evaluate the predictor over all training seasons and regions and return mean score\n",
    "    \"\"\"\n",
    "    \n",
    "    first_losses = []\n",
    "    final_losses = []\n",
    "    \n",
    "    with tqdm(total=len(TRAINING_SEASONS)) as pbar:\n",
    "        for season in TRAINING_SEASONS:\n",
    "            truths = [ad.get(TARGET, REGION, season, lag=l) for l in range(MAX_LAG + 1)]\n",
    "            c_preds = [cmp.get(TARGET, REGION, season) for cmp in components]\n",
    "            \n",
    "            first_truth = merge.earliest(truths)\n",
    "            final_truth = merge.latest(truths)\n",
    "            pred, _ = predictor(truths, c_preds)\n",
    "            first_losses.append(float(loss_fn(pred, first_truth).mean()))\n",
    "            final_losses.append(float(loss_fn(pred, final_truth).mean()))\n",
    "            pbar.update()\n",
    "\n",
    "    return {\n",
    "        \"first_loss\": np.mean(first_losses),\n",
    "        \"final_loss\": np.mean(final_losses)\n",
    "    }"
   ]
  },
  {
   "cell_type": "markdown",
   "metadata": {},
   "source": [
    "## Follow the leader"
   ]
  },
  {
   "cell_type": "code",
   "execution_count": null,
   "metadata": {},
   "outputs": [],
   "source": [
    "def ftlfn(cfg):\n",
    "    update_fn = partial(update.ftl, k=cfg[\"k\"], lookback=cfg[\"lookback\"])\n",
    "    l = evaluate(make_predictor(LOSS_FN, MERGE_FN, update.ftl), LOSS_FN)\n",
    "    return {\n",
    "        \"loss\": l[\"final_loss\"],\n",
    "        \"status\": STATUS_OK,\n",
    "        \"first_loss\": l[\"first_loss\"],\n",
    "        \"config\": cfg\n",
    "    }\n",
    "\n",
    "trials = Trials()\n",
    "space = {\n",
    "    \"k\": 1 + hp.randint(\"k\", 20),\n",
    "    \"lookback\": 1 + hp.randint(\"lookback\", 33)\n",
    "}\n",
    "best = fmin(ftlfn, space=space, algo=tpe.suggest, max_evals=20, trials=trials)\n",
    "trials.best_trial[\"result\"]"
   ]
  },
  {
   "cell_type": "code",
   "execution_count": null,
   "metadata": {},
   "outputs": [],
   "source": [
    "ofile = path.join(u.ensure_dir(path.join(OUTPUT_DIR, TARGET, REGION)), \"ftl.json\")\n",
    "with open(ofile, \"w\") as fp:\n",
    "    json.dump(trials.best_trial[\"result\"], fp)"
   ]
  }
 ],
 "metadata": {
  "kernelspec": {
   "display_name": "Python 3",
   "language": "python",
   "name": "python3"
  },
  "language_info": {
   "codemirror_mode": {
    "name": "ipython",
    "version": 3
   },
   "file_extension": ".py",
   "mimetype": "text/x-python",
   "name": "python",
   "nbconvert_exporter": "python",
   "pygments_lexer": "ipython3",
   "version": "3.6.4"
  }
 },
 "nbformat": 4,
 "nbformat_minor": 2
}
