{
 "cells": [
  {
   "cell_type": "markdown",
   "metadata": {},
   "source": [
    "# Training notebook\n",
    "\n",
    "Here we tune parameters of models. From the 7 available seasons, we use first 4 for training and the rest 3 go in testing. There is no fitting on data as such and so we just take the average performance over 4 training seasons to see which parameters work best."
   ]
  },
  {
   "cell_type": "code",
   "execution_count": 7,
   "metadata": {},
   "outputs": [
    {
     "name": "stdout",
     "output_type": "stream",
     "text": [
      "The autoreload extension is already loaded. To reload it, use:\n",
      "  %reload_ext autoreload\n"
     ]
    }
   ],
   "source": [
    "%load_ext autoreload\n",
    "%autoreload 2\n",
    "%matplotlib inline\n",
    "\n",
    "import numpy as np\n",
    "import pandas as pd\n",
    "import xarray as xr\n",
    "import matplotlib.pyplot as plt\n",
    "np.random.seed(1234)\n",
    "\n",
    "import sys\n",
    "sys.path.append(\"../src\")\n",
    "from utils import data as udata\n",
    "from utils import dists as udists\n",
    "from utils import misc as u\n",
    "from truth import mask_truths\n",
    "from predictors import make_predictor\n",
    "import losses\n",
    "from pymmwr import Epiweek\n",
    "from tqdm import tqdm, trange\n",
    "import ledge.merge as merge\n",
    "import ledge.update as update\n",
    "import ledge.fill as fill\n",
    "from functools import partial\n",
    "from hyperopt import fmin, tpe, hp, STATUS_OK, Trials\n",
    "import hyperopt.pyll.stochastic as st\n",
    "import json\n",
    "import os.path as path\n",
    "import inspect"
   ]
  },
  {
   "cell_type": "code",
   "execution_count": 2,
   "metadata": {},
   "outputs": [],
   "source": [
    "EXP_DIR = \"../data/processed/cdc-flusight-ensemble/\"\n",
    "OUTPUT_DIR = \"../models/cdc-flusight-ensemble/\"\n",
    "TARGET = \"4-ahead\"\n",
    "MAX_LAG = 29\n",
    "# REGIONS = [\"nat\", *[f\"hhs{i}\" for i in range(1, 11)]]\n",
    "REGIONS = [\"nat\"] # Speed up!\n",
    "TRAINING_SEASONS = list(range(2010, 2014))\n",
    "LOSS_FN = losses.ploss"
   ]
  },
  {
   "cell_type": "code",
   "execution_count": 3,
   "metadata": {},
   "outputs": [],
   "source": [
    "components = [udata.Component(EXP_DIR, m) for m in udata.available_models(EXP_DIR)]\n",
    "ad = udata.ActualData(EXP_DIR)"
   ]
  },
  {
   "cell_type": "markdown",
   "metadata": {},
   "source": [
    "# Evaluation"
   ]
  },
  {
   "cell_type": "code",
   "execution_count": 4,
   "metadata": {},
   "outputs": [],
   "source": [
    "def evaluate(predictor, loss_fn=losses.ploss):\n",
    "    \"\"\"\n",
    "    Evaluate the predictor over all training seasons and regions and return mean score\n",
    "    \"\"\"\n",
    "    \n",
    "    first_losses = []\n",
    "    final_losses = []\n",
    "    \n",
    "    with tqdm(total=len(TRAINING_SEASONS) * len(REGIONS)) as pbar:\n",
    "        for season in TRAINING_SEASONS:\n",
    "            for region in REGIONS:\n",
    "                truths = [ad.get(TARGET, region, season, lag=l) for l in range(MAX_LAG + 1)]\n",
    "                c_preds = [cmp.get(TARGET, region, season) for cmp in components]\n",
    "            \n",
    "                first_truth = merge.earliest(truths)\n",
    "                final_truth = merge.latest(truths)\n",
    "                pred = predictor(truths, c_preds)\n",
    "                first_losses.append(float(loss_fn(pred, first_truth).mean()))\n",
    "                final_losses.append(float(loss_fn(pred, final_truth).mean()))\n",
    "                pbar.update()\n",
    "\n",
    "    return {\n",
    "        \"first_loss\": np.mean(first_losses),\n",
    "        \"final_loss\": np.mean(final_losses)\n",
    "    }"
   ]
  },
  {
   "cell_type": "markdown",
   "metadata": {},
   "source": [
    "# Tuning"
   ]
  },
  {
   "cell_type": "code",
   "execution_count": 5,
   "metadata": {},
   "outputs": [],
   "source": [
    "# Merge strategy\n",
    "MERGE_FN = merge.latest"
   ]
  },
  {
   "cell_type": "markdown",
   "metadata": {},
   "source": [
    "## Search space for imputation"
   ]
  },
  {
   "cell_type": "code",
   "execution_count": 8,
   "metadata": {},
   "outputs": [],
   "source": [
    "fill_space = hp.choice(\"imputation_type\", [\n",
    "    { \"type\": None },\n",
    "    {\n",
    "        \"type\": \"diff\",\n",
    "        \"lookback\": 1 + hp.randint(\"lookback\", 33),\n",
    "        \"normalize\": hp.choice(\"normalize\", [True, False]),\n",
    "        \"window\": hp.choice(\"window\", [\n",
    "            {\n",
    "                \"type\": \"uniform\"\n",
    "            },\n",
    "            {\n",
    "                \"type\": \"linear\",\n",
    "                \"alpha\": hp.uniform(\"alpha\", 0, 1)\n",
    "            },\n",
    "            {\n",
    "                \"type\": \"geometric\",\n",
    "                \"gamma\": hp.uniform(\"gamma\", 0, 1)\n",
    "            }\n",
    "        ]),\n",
    "        \"incremental\": hp.choice(\"incremental\", [True, False]),\n",
    "        \"n_series\": 2 + hp.randint(\"n_series\", 30)\n",
    "    }\n",
    "])"
   ]
  },
  {
   "cell_type": "code",
   "execution_count": 27,
   "metadata": {},
   "outputs": [],
   "source": [
    "def impute(series_list, config):\n",
    "    if len(series_list) < 2:\n",
    "        return series_list\n",
    "    if config[\"type\"] is None:\n",
    "        return series_list\n",
    "    elif config[\"type\"] is \"diff\":\n",
    "        window = config[\"window\"]\n",
    "        if window[\"type\"] == \"uniform\":\n",
    "            window_fn = fill.window_uniform\n",
    "        elif window[\"type\"] == \"linear\":\n",
    "            window_fn = partial(fill.window_linear, alpha=window[\"alpha\"])\n",
    "        elif window[\"type\"] == \"geometric\":\n",
    "            window_fn = partial(fill.window_geometric, gamma=window[\"gamma\"])\n",
    "        else:\n",
    "            raise Exception(\"Window type not understood\")\n",
    "        \n",
    "        window_fn = fill.lookback(config[\"lookback\"])(window_fn)\n",
    "        if config[\"normalize\"]:\n",
    "            window_fn = fill.normalize(window_fn)\n",
    "            \n",
    "        series_list[:config[\"n_series\"]] = fill.diff_window(\n",
    "            series_list[:config[\"n_series\"]],\n",
    "            window_fn,\n",
    "            inc=config[\"incremental\"]\n",
    "        )\n",
    "        return series_list\n",
    "    else:\n",
    "        raise Exception(\"Imputation type not understood\")"
   ]
  },
  {
   "cell_type": "markdown",
   "metadata": {},
   "source": [
    "## Individuals"
   ]
  },
  {
   "cell_type": "code",
   "execution_count": 6,
   "metadata": {},
   "outputs": [
    {
     "name": "stderr",
     "output_type": "stream",
     "text": [
      "100%|██████████| 4/4 [00:45<00:00, 11.44s/it]\n",
      "  0%|          | 0/4 [00:00<?, ?it/s]"
     ]
    },
    {
     "name": "stdout",
     "output_type": "stream",
     "text": [
      "CU-BMA: (0.9516458082462813, 0.9455271895144688)\n"
     ]
    },
    {
     "name": "stderr",
     "output_type": "stream",
     "text": [
      "100%|██████████| 4/4 [00:17<00:00,  4.40s/it]\n",
      "  0%|          | 0/4 [00:00<?, ?it/s]"
     ]
    },
    {
     "name": "stdout",
     "output_type": "stream",
     "text": [
      "CU-EAKFC_SEIRS: (0.9480731224971222, 0.9261226093092367)\n"
     ]
    },
    {
     "name": "stderr",
     "output_type": "stream",
     "text": [
      "100%|██████████| 4/4 [00:15<00:00,  3.96s/it]\n",
      "  0%|          | 0/4 [00:00<?, ?it/s]"
     ]
    },
    {
     "name": "stdout",
     "output_type": "stream",
     "text": [
      "CU-EAKFC_SIRS: (0.9369144785577284, 0.9264107229456003)\n"
     ]
    },
    {
     "name": "stderr",
     "output_type": "stream",
     "text": [
      "100%|██████████| 4/4 [00:16<00:00,  4.09s/it]\n",
      "  0%|          | 0/4 [00:00<?, ?it/s]"
     ]
    },
    {
     "name": "stdout",
     "output_type": "stream",
     "text": [
      "CU-EKF_SEIRS: (0.9466056376486375, 0.9275790184001458)\n"
     ]
    },
    {
     "name": "stderr",
     "output_type": "stream",
     "text": [
      "100%|██████████| 4/4 [00:18<00:00,  4.51s/it]\n",
      "  0%|          | 0/4 [00:00<?, ?it/s]"
     ]
    },
    {
     "name": "stdout",
     "output_type": "stream",
     "text": [
      "CU-EKF_SIRS: (0.9434135088607587, 0.9322315790062063)\n"
     ]
    },
    {
     "name": "stderr",
     "output_type": "stream",
     "text": [
      "100%|██████████| 4/4 [00:19<00:00,  4.87s/it]\n",
      "  0%|          | 0/4 [00:00<?, ?it/s]"
     ]
    },
    {
     "name": "stdout",
     "output_type": "stream",
     "text": [
      "CU-RHF_SEIRS: (0.950387145224395, 0.9270436320365094)\n"
     ]
    },
    {
     "name": "stderr",
     "output_type": "stream",
     "text": [
      "100%|██████████| 4/4 [00:21<00:00,  5.44s/it]\n",
      "  0%|          | 0/4 [00:00<?, ?it/s]"
     ]
    },
    {
     "name": "stdout",
     "output_type": "stream",
     "text": [
      "CU-RHF_SIRS: (0.943480857345607, 0.9319697608243882)\n"
     ]
    },
    {
     "name": "stderr",
     "output_type": "stream",
     "text": [
      "100%|██████████| 4/4 [00:17<00:00,  4.43s/it]\n",
      "  0%|          | 0/4 [00:00<?, ?it/s]"
     ]
    },
    {
     "name": "stdout",
     "output_type": "stream",
     "text": [
      "Delphi-BasisRegression: (0.9311610322665933, 0.9318268014150056)\n"
     ]
    },
    {
     "name": "stderr",
     "output_type": "stream",
     "text": [
      "100%|██████████| 4/4 [00:17<00:00,  4.36s/it]\n",
      "  0%|          | 0/4 [00:00<?, ?it/s]"
     ]
    },
    {
     "name": "stdout",
     "output_type": "stream",
     "text": [
      "Delphi-DeltaDensity1: (0.9114855460475961, 0.917042434450974)\n"
     ]
    },
    {
     "name": "stderr",
     "output_type": "stream",
     "text": [
      "100%|██████████| 4/4 [00:17<00:00,  4.33s/it]\n",
      "  0%|          | 0/4 [00:00<?, ?it/s]"
     ]
    },
    {
     "name": "stdout",
     "output_type": "stream",
     "text": [
      "Delphi-DeltaDensity2: (0.9013064214007314, 0.9188220946494262)\n"
     ]
    },
    {
     "name": "stderr",
     "output_type": "stream",
     "text": [
      "100%|██████████| 4/4 [00:16<00:00,  4.03s/it]\n",
      "  0%|          | 0/4 [00:00<?, ?it/s]"
     ]
    },
    {
     "name": "stdout",
     "output_type": "stream",
     "text": [
      "Delphi-EmpiricalBayes1: (0.9021850078575344, 0.9193290541754324)\n"
     ]
    },
    {
     "name": "stderr",
     "output_type": "stream",
     "text": [
      "100%|██████████| 4/4 [00:15<00:00,  3.98s/it]\n",
      "  0%|          | 0/4 [00:00<?, ?it/s]"
     ]
    },
    {
     "name": "stdout",
     "output_type": "stream",
     "text": [
      "Delphi-EmpiricalBayes2: (0.9068685459340579, 0.9265302013302621)\n"
     ]
    },
    {
     "name": "stderr",
     "output_type": "stream",
     "text": [
      "100%|██████████| 4/4 [00:15<00:00,  3.94s/it]\n",
      "  0%|          | 0/4 [00:00<?, ?it/s]"
     ]
    },
    {
     "name": "stdout",
     "output_type": "stream",
     "text": [
      "Delphi-EmpiricalFuture: (0.969192607677654, 0.9692151399828477)\n"
     ]
    },
    {
     "name": "stderr",
     "output_type": "stream",
     "text": [
      "100%|██████████| 4/4 [00:15<00:00,  3.92s/it]\n",
      "  0%|          | 0/4 [00:00<?, ?it/s]"
     ]
    },
    {
     "name": "stdout",
     "output_type": "stream",
     "text": [
      "Delphi-EmpiricalTraj: (0.969192607677654, 0.9692151399828477)\n"
     ]
    },
    {
     "name": "stderr",
     "output_type": "stream",
     "text": [
      "100%|██████████| 4/4 [00:15<00:00,  3.91s/it]\n",
      "  0%|          | 0/4 [00:00<?, ?it/s]"
     ]
    },
    {
     "name": "stdout",
     "output_type": "stream",
     "text": [
      "Delphi-Stat: (0.9149605254012969, 0.9225337252600729)\n"
     ]
    },
    {
     "name": "stderr",
     "output_type": "stream",
     "text": [
      "100%|██████████| 4/4 [00:15<00:00,  3.94s/it]\n",
      "  0%|          | 0/4 [00:00<?, ?it/s]"
     ]
    },
    {
     "name": "stdout",
     "output_type": "stream",
     "text": [
      "Delphi-Uniform: (0.9888606207043857, 0.9887574029710456)\n"
     ]
    },
    {
     "name": "stderr",
     "output_type": "stream",
     "text": [
      "100%|██████████| 4/4 [00:15<00:00,  3.98s/it]\n",
      "  0%|          | 0/4 [00:00<?, ?it/s]"
     ]
    },
    {
     "name": "stdout",
     "output_type": "stream",
     "text": [
      "LANL-DBM: (0.9304664864544081, 0.938788244459157)\n"
     ]
    },
    {
     "name": "stderr",
     "output_type": "stream",
     "text": [
      "100%|██████████| 4/4 [00:15<00:00,  3.95s/it]\n",
      "  0%|          | 0/4 [00:00<?, ?it/s]"
     ]
    },
    {
     "name": "stdout",
     "output_type": "stream",
     "text": [
      "ReichLab-KCDE: (0.9139856149213647, 0.9129323971880245)\n"
     ]
    },
    {
     "name": "stderr",
     "output_type": "stream",
     "text": [
      "100%|██████████| 4/4 [00:17<00:00,  4.27s/it]\n",
      "  0%|          | 0/4 [00:00<?, ?it/s]"
     ]
    },
    {
     "name": "stdout",
     "output_type": "stream",
     "text": [
      "ReichLab-KDE: (0.9427599877584115, 0.9475427635104133)\n"
     ]
    },
    {
     "name": "stderr",
     "output_type": "stream",
     "text": [
      "100%|██████████| 4/4 [00:15<00:00,  3.92s/it]\n",
      "  0%|          | 0/4 [00:00<?, ?it/s]"
     ]
    },
    {
     "name": "stdout",
     "output_type": "stream",
     "text": [
      "ReichLab-SARIMA1: (0.9316378876486374, 0.9375369426425701)\n"
     ]
    },
    {
     "name": "stderr",
     "output_type": "stream",
     "text": [
      "100%|██████████| 4/4 [00:17<00:00,  4.42s/it]\n",
      "  0%|          | 0/4 [00:00<?, ?it/s]"
     ]
    },
    {
     "name": "stdout",
     "output_type": "stream",
     "text": [
      "ReichLab-SARIMA2: (0.9299500088607586, 0.9346892153698427)\n"
     ]
    },
    {
     "name": "stderr",
     "output_type": "stream",
     "text": [
      "100%|██████████| 4/4 [00:18<00:00,  4.78s/it]"
     ]
    },
    {
     "name": "stdout",
     "output_type": "stream",
     "text": [
      "UTAustin-edm: (0.9394295543153042, 0.9517505790062064)\n"
     ]
    },
    {
     "name": "stderr",
     "output_type": "stream",
     "text": [
      "\n"
     ]
    }
   ],
   "source": [
    "for idx, cmp in enumerate(components):\n",
    "    update_fn = partial(update.pick, index=idx)\n",
    "    losses = evaluate(make_predictor(LOSS_FN, MERGE_FN, update_fn), LOSS_FN)\n",
    "    print(f\"{cmp.name}: {losses['first_loss'], losses['final_loss']}\")"
   ]
  },
  {
   "cell_type": "markdown",
   "metadata": {},
   "source": [
    "## Mean"
   ]
  },
  {
   "cell_type": "code",
   "execution_count": 28,
   "metadata": {
    "collapsed": true
   },
   "outputs": [
    {
     "name": "stderr",
     "output_type": "stream",
     "text": [
      "100%|██████████| 4/4 [00:38<00:00,  9.49s/it]\n",
      "100%|██████████| 4/4 [00:31<00:00,  7.80s/it]\n",
      "100%|██████████| 4/4 [00:37<00:00,  9.20s/it]\n",
      "100%|██████████| 4/4 [00:24<00:00,  6.35s/it]\n",
      "100%|██████████| 4/4 [00:27<00:00,  6.79s/it]\n",
      "100%|██████████| 4/4 [00:31<00:00,  7.87s/it]\n",
      "100%|██████████| 4/4 [00:25<00:00,  6.38s/it]\n",
      "100%|██████████| 4/4 [00:26<00:00,  6.70s/it]\n",
      "100%|██████████| 4/4 [00:22<00:00,  5.64s/it]\n",
      "100%|██████████| 4/4 [00:35<00:00,  8.89s/it]\n",
      "100%|██████████| 4/4 [00:31<00:00,  7.90s/it]\n",
      "100%|██████████| 4/4 [00:33<00:00,  8.47s/it]\n",
      "100%|██████████| 4/4 [00:22<00:00,  5.68s/it]\n",
      "100%|██████████| 4/4 [00:24<00:00,  6.16s/it]\n",
      "100%|██████████| 4/4 [00:34<00:00,  8.55s/it]\n",
      "100%|██████████| 4/4 [00:24<00:00,  6.06s/it]\n",
      "100%|██████████| 4/4 [00:33<00:00,  8.59s/it]\n",
      "100%|██████████| 4/4 [00:23<00:00,  6.00s/it]\n",
      "100%|██████████| 4/4 [00:27<00:00,  6.97s/it]\n",
      "100%|██████████| 4/4 [00:20<00:00,  5.09s/it]\n",
      "100%|██████████| 4/4 [00:21<00:00,  5.27s/it]\n",
      "100%|██████████| 4/4 [00:21<00:00,  5.29s/it]\n",
      "100%|██████████| 4/4 [00:21<00:00,  5.27s/it]\n",
      "100%|██████████| 4/4 [00:20<00:00,  5.17s/it]\n",
      "100%|██████████| 4/4 [00:19<00:00,  4.89s/it]\n",
      "100%|██████████| 4/4 [00:19<00:00,  4.99s/it]\n",
      "100%|██████████| 4/4 [00:21<00:00,  5.30s/it]\n",
      "100%|██████████| 4/4 [00:29<00:00,  7.48s/it]\n",
      "100%|██████████| 4/4 [00:26<00:00,  6.63s/it]\n",
      "100%|██████████| 4/4 [00:26<00:00,  6.82s/it]\n",
      "100%|██████████| 4/4 [00:24<00:00,  6.32s/it]\n",
      "100%|██████████| 4/4 [00:31<00:00,  7.81s/it]\n",
      "100%|██████████| 4/4 [00:24<00:00,  6.08s/it]\n",
      "100%|██████████| 4/4 [00:27<00:00,  6.99s/it]\n",
      "100%|██████████| 4/4 [00:22<00:00,  5.64s/it]\n",
      "100%|██████████| 4/4 [00:20<00:00,  5.11s/it]\n",
      "100%|██████████| 4/4 [00:22<00:00,  5.71s/it]\n",
      "100%|██████████| 4/4 [00:26<00:00,  6.60s/it]\n",
      "100%|██████████| 4/4 [00:22<00:00,  5.50s/it]\n",
      "100%|██████████| 4/4 [00:23<00:00,  5.99s/it]\n",
      "100%|██████████| 4/4 [00:27<00:00,  7.01s/it]\n",
      "100%|██████████| 4/4 [00:24<00:00,  6.25s/it]\n",
      "100%|██████████| 4/4 [00:21<00:00,  5.26s/it]\n",
      "100%|██████████| 4/4 [00:26<00:00,  6.66s/it]\n",
      "100%|██████████| 4/4 [00:27<00:00,  6.94s/it]\n",
      "100%|██████████| 4/4 [00:24<00:00,  6.14s/it]\n",
      "100%|██████████| 4/4 [00:29<00:00,  7.24s/it]\n",
      "100%|██████████| 4/4 [00:25<00:00,  6.33s/it]\n",
      "100%|██████████| 4/4 [00:30<00:00,  7.54s/it]\n",
      "100%|██████████| 4/4 [00:21<00:00,  5.37s/it]\n",
      "100%|██████████| 4/4 [00:29<00:00,  7.47s/it]\n",
      "100%|██████████| 4/4 [00:27<00:00,  7.05s/it]\n",
      "100%|██████████| 4/4 [00:19<00:00,  4.91s/it]\n",
      "100%|██████████| 4/4 [00:30<00:00,  7.75s/it]\n",
      "100%|██████████| 4/4 [00:25<00:00,  6.20s/it]\n",
      "100%|██████████| 4/4 [00:24<00:00,  6.18s/it]\n",
      "100%|██████████| 4/4 [00:20<00:00,  4.94s/it]\n",
      "100%|██████████| 4/4 [00:21<00:00,  5.49s/it]\n",
      "100%|██████████| 4/4 [00:29<00:00,  7.37s/it]\n",
      "100%|██████████| 4/4 [00:30<00:00,  7.69s/it]\n",
      "100%|██████████| 4/4 [00:20<00:00,  4.99s/it]\n",
      "100%|██████████| 4/4 [00:26<00:00,  6.55s/it]\n",
      "100%|██████████| 4/4 [00:19<00:00,  4.74s/it]\n",
      "100%|██████████| 4/4 [00:20<00:00,  5.18s/it]\n",
      "100%|██████████| 4/4 [00:29<00:00,  7.23s/it]\n",
      "100%|██████████| 4/4 [00:22<00:00,  5.67s/it]\n",
      "100%|██████████| 4/4 [00:23<00:00,  6.08s/it]\n",
      "100%|██████████| 4/4 [00:21<00:00,  5.28s/it]\n",
      "100%|██████████| 4/4 [00:20<00:00,  5.17s/it]\n",
      "100%|██████████| 4/4 [00:29<00:00,  7.34s/it]\n",
      "100%|██████████| 4/4 [00:32<00:00,  8.05s/it]\n",
      "100%|██████████| 4/4 [00:30<00:00,  7.87s/it]\n",
      "100%|██████████| 4/4 [00:23<00:00,  5.93s/it]\n",
      "100%|██████████| 4/4 [00:27<00:00,  7.00s/it]\n",
      "100%|██████████| 4/4 [00:23<00:00,  5.83s/it]\n",
      "100%|██████████| 4/4 [00:24<00:00,  6.03s/it]\n",
      "100%|██████████| 4/4 [00:21<00:00,  5.33s/it]\n",
      "100%|██████████| 4/4 [00:20<00:00,  5.21s/it]\n",
      "100%|██████████| 4/4 [00:19<00:00,  4.93s/it]\n",
      "100%|██████████| 4/4 [00:21<00:00,  5.50s/it]\n",
      "100%|██████████| 4/4 [00:22<00:00,  5.71s/it]\n",
      "100%|██████████| 4/4 [00:26<00:00,  6.72s/it]\n",
      "100%|██████████| 4/4 [00:28<00:00,  7.12s/it]\n",
      "100%|██████████| 4/4 [00:20<00:00,  5.06s/it]\n",
      "100%|██████████| 4/4 [00:26<00:00,  6.77s/it]\n",
      "100%|██████████| 4/4 [00:27<00:00,  6.85s/it]\n",
      "100%|██████████| 4/4 [00:25<00:00,  6.30s/it]\n",
      "100%|██████████| 4/4 [00:21<00:00,  5.30s/it]\n",
      "100%|██████████| 4/4 [00:19<00:00,  4.75s/it]\n",
      "100%|██████████| 4/4 [00:26<00:00,  6.56s/it]\n",
      "100%|██████████| 4/4 [00:24<00:00,  6.20s/it]\n",
      "100%|██████████| 4/4 [00:23<00:00,  5.87s/it]\n",
      "100%|██████████| 4/4 [00:27<00:00,  6.80s/it]\n",
      "100%|██████████| 4/4 [00:18<00:00,  4.67s/it]\n",
      "100%|██████████| 4/4 [00:26<00:00,  6.76s/it]\n",
      "100%|██████████| 4/4 [00:27<00:00,  6.95s/it]\n",
      "100%|██████████| 4/4 [00:26<00:00,  6.60s/it]\n",
      "100%|██████████| 4/4 [00:18<00:00,  4.73s/it]\n",
      "100%|██████████| 4/4 [00:28<00:00,  7.14s/it]\n",
      "100%|██████████| 4/4 [00:21<00:00,  5.31s/it]"
     ]
    },
    {
     "name": "stdout",
     "output_type": "stream",
     "text": [
      "{'imputation_type': 1, 'incremental': 0, 'lookback': 22, 'n_series': 3, 'normalize': 0, 'window': 0}\n"
     ]
    },
    {
     "name": "stderr",
     "output_type": "stream",
     "text": [
      "\n"
     ]
    }
   ],
   "source": [
    "trials = Trials()\n",
    "best = fmin(hmin, space=fill_space, algo=tpe.suggest, max_evals=100, trials=trials)\n",
    "print(best)"
   ]
  },
  {
   "cell_type": "code",
   "execution_count": 42,
   "metadata": {},
   "outputs": [
    {
     "data": {
      "text/plain": [
       "{'config': {'incremental': True,\n",
       "  'lookback': 23,\n",
       "  'n_series': 5,\n",
       "  'normalize': True,\n",
       "  'type': 'diff',\n",
       "  'window': {'type': 'uniform'}},\n",
       " 'first_loss': 0.8922135537419298,\n",
       " 'loss': 0.9024205112357531,\n",
       " 'status': 'ok'}"
      ]
     },
     "execution_count": 42,
     "metadata": {},
     "output_type": "execute_result"
    }
   ],
   "source": [
    "trials.best_trial[\"result\"]"
   ]
  },
  {
   "cell_type": "markdown",
   "metadata": {},
   "source": [
    "## Dem"
   ]
  },
  {
   "cell_type": "code",
   "execution_count": 8,
   "metadata": {},
   "outputs": [
    {
     "name": "stderr",
     "output_type": "stream",
     "text": [
      "100%|██████████| 4/4 [00:16<00:00,  4.09s/it]"
     ]
    },
    {
     "name": "stdout",
     "output_type": "stream",
     "text": [
      "(0.91701711495345, 0.9185189211648521)\n"
     ]
    },
    {
     "name": "stderr",
     "output_type": "stream",
     "text": [
      "\n"
     ]
    }
   ],
   "source": [
    "# Load the weights from DEM training done in tracking-ensemble repository\n",
    "with open(path.join(OUTPUT_DIR, TARGET, \"dem-weight-ensemble.json\")) as fp:\n",
    "    w_vec = json.load(fp)[\"fit_params\"][\"weights\"]\n",
    "    models = [cmp.name for cmp in components]\n",
    "    weights = xr.DataArray(w_vec, dims=\"model\", coords={ \"model\": models })\n",
    "    \n",
    "update_fn = partial(update.noop, init_weights=weights)\n",
    "losses = evaluate(make_predictor(LOSS_FN, MERGE_FN, update_fn), LOSS_FN)\n",
    "print(f\"{losses['first_loss'], losses['final_loss']}\")"
   ]
  },
  {
   "cell_type": "markdown",
   "metadata": {},
   "source": [
    "## Follow the leader"
   ]
  },
  {
   "cell_type": "code",
   "execution_count": 9,
   "metadata": {},
   "outputs": [
    {
     "name": "stderr",
     "output_type": "stream",
     "text": [
      "100%|██████████| 4/4 [00:16<00:00,  4.15s/it]"
     ]
    },
    {
     "name": "stdout",
     "output_type": "stream",
     "text": [
      "(0.887509003361017, 0.903981443179864)\n"
     ]
    },
    {
     "name": "stderr",
     "output_type": "stream",
     "text": [
      "\n"
     ]
    }
   ],
   "source": [
    "def hmin(fill_config):\n",
    "    FILL_FN = partial(impute, config=fill_config)\n",
    "    losses = evaluate(make_predictor(LOSS_FN, MERGE_FN, update.ftl, fill_fn=FILL_FN),\n",
    "                      LOSS_FN)\n",
    "    return {\n",
    "        \"loss\": losses[\"final_loss\"],\n",
    "        \"status\": STATUS_OK,\n",
    "        \"first_loss\": losses[\"first_loss\"],\n",
    "        \"config\": fill_config\n",
    "    }\n",
    "\n",
    "trials = Trials()\n",
    "best = fmin(hmin, space=fill_space, algo=tpe.suggest, max_evals=100, trials=trials)\n",
    "print(trials.best_trial[\"result\"])"
   ]
  },
  {
   "cell_type": "markdown",
   "metadata": {},
   "source": [
    "## MW"
   ]
  },
  {
   "cell_type": "code",
   "execution_count": 10,
   "metadata": {},
   "outputs": [
    {
     "name": "stderr",
     "output_type": "stream",
     "text": [
      "100%|██████████| 4/4 [00:18<00:00,  4.74s/it]\n",
      "  0%|          | 0/4 [00:00<?, ?it/s]"
     ]
    },
    {
     "name": "stdout",
     "output_type": "stream",
     "text": [
      "0.5: (0.9282935726604933, 0.9269872566873232)\n"
     ]
    },
    {
     "name": "stderr",
     "output_type": "stream",
     "text": [
      "100%|██████████| 4/4 [00:21<00:00,  5.31s/it]\n",
      "  0%|          | 0/4 [00:00<?, ?it/s]"
     ]
    },
    {
     "name": "stdout",
     "output_type": "stream",
     "text": [
      "0.55: (0.926748332159582, 0.9253980323816449)\n"
     ]
    },
    {
     "name": "stderr",
     "output_type": "stream",
     "text": [
      "100%|██████████| 4/4 [00:17<00:00,  4.38s/it]\n",
      "  0%|          | 0/4 [00:00<?, ?it/s]"
     ]
    },
    {
     "name": "stdout",
     "output_type": "stream",
     "text": [
      "0.6: (0.9249746689131265, 0.9236703767166234)\n"
     ]
    },
    {
     "name": "stderr",
     "output_type": "stream",
     "text": [
      "100%|██████████| 4/4 [00:17<00:00,  4.47s/it]\n",
      "  0%|          | 0/4 [00:00<?, ?it/s]"
     ]
    },
    {
     "name": "stdout",
     "output_type": "stream",
     "text": [
      "0.65: (0.9229472709290292, 0.9218316419026349)\n"
     ]
    },
    {
     "name": "stderr",
     "output_type": "stream",
     "text": [
      "100%|██████████| 4/4 [00:18<00:00,  4.65s/it]\n",
      "  0%|          | 0/4 [00:00<?, ?it/s]"
     ]
    },
    {
     "name": "stdout",
     "output_type": "stream",
     "text": [
      "0.7: (0.9206546003017513, 0.9199401851465504)\n"
     ]
    },
    {
     "name": "stderr",
     "output_type": "stream",
     "text": [
      "100%|██████████| 4/4 [00:18<00:00,  4.61s/it]\n",
      "  0%|          | 0/4 [00:00<?, ?it/s]"
     ]
    },
    {
     "name": "stdout",
     "output_type": "stream",
     "text": [
      "0.75: (0.9181150147231256, 0.9180924266464205)\n"
     ]
    },
    {
     "name": "stderr",
     "output_type": "stream",
     "text": [
      "100%|██████████| 4/4 [00:18<00:00,  4.56s/it]\n",
      "  0%|          | 0/4 [00:00<?, ?it/s]"
     ]
    },
    {
     "name": "stdout",
     "output_type": "stream",
     "text": [
      "0.8: (0.915400132644641, 0.9164222166151035)\n"
     ]
    },
    {
     "name": "stderr",
     "output_type": "stream",
     "text": [
      "100%|██████████| 4/4 [00:17<00:00,  4.36s/it]\n",
      "  0%|          | 0/4 [00:00<?, ?it/s]"
     ]
    },
    {
     "name": "stdout",
     "output_type": "stream",
     "text": [
      "0.8500000000000001: (0.9126490039208637, 0.9151167554257146)\n"
     ]
    },
    {
     "name": "stderr",
     "output_type": "stream",
     "text": [
      "100%|██████████| 4/4 [00:18<00:00,  4.66s/it]\n",
      "  0%|          | 0/4 [00:00<?, ?it/s]"
     ]
    },
    {
     "name": "stdout",
     "output_type": "stream",
     "text": [
      "0.9: (0.9099636900914446, 0.9145738709610577)\n"
     ]
    },
    {
     "name": "stderr",
     "output_type": "stream",
     "text": [
      "100%|██████████| 4/4 [00:19<00:00,  4.87s/it]\n",
      "  0%|          | 0/4 [00:00<?, ?it/s]"
     ]
    },
    {
     "name": "stdout",
     "output_type": "stream",
     "text": [
      "0.95: (0.9074302796489346, 0.915860868662467)\n"
     ]
    },
    {
     "name": "stderr",
     "output_type": "stream",
     "text": [
      "100%|██████████| 4/4 [00:22<00:00,  5.58s/it]"
     ]
    },
    {
     "name": "stdout",
     "output_type": "stream",
     "text": [
      "1.0: (0.9149758089626523, 0.9219862242655469)\n"
     ]
    },
    {
     "name": "stderr",
     "output_type": "stream",
     "text": [
      "\n"
     ]
    }
   ],
   "source": [
    "for eta in np.linspace(0.5, 1.0, 11):\n",
    "    update_fn = partial(update.mw, eta=eta)\n",
    "    losses = evaluate(make_predictor(LOSS_FN, MERGE_FN, update_fn), LOSS_FN)\n",
    "    print(f\"{eta}: {losses['first_loss'], losses['final_loss']}\")"
   ]
  },
  {
   "cell_type": "markdown",
   "metadata": {},
   "source": [
    "## Hedge"
   ]
  },
  {
   "cell_type": "code",
   "execution_count": 19,
   "metadata": {},
   "outputs": [
    {
     "name": "stderr",
     "output_type": "stream",
     "text": [
      "100%|██████████| 4/4 [00:18<00:00,  4.59s/it]\n",
      "  0%|          | 0/4 [00:00<?, ?it/s]"
     ]
    },
    {
     "name": "stdout",
     "output_type": "stream",
     "text": [
      "0.5: (0.9320335841461582, 0.9309752144307468)\n"
     ]
    },
    {
     "name": "stderr",
     "output_type": "stream",
     "text": [
      "100%|██████████| 4/4 [00:18<00:00,  4.54s/it]\n",
      "  0%|          | 0/4 [00:00<?, ?it/s]"
     ]
    },
    {
     "name": "stdout",
     "output_type": "stream",
     "text": [
      "3.45: (0.9111900429099099, 0.9140675746004779)\n"
     ]
    },
    {
     "name": "stderr",
     "output_type": "stream",
     "text": [
      "100%|██████████| 4/4 [00:18<00:00,  4.47s/it]\n",
      "  0%|          | 0/4 [00:00<?, ?it/s]"
     ]
    },
    {
     "name": "stdout",
     "output_type": "stream",
     "text": [
      "6.4: (0.9018098211801836, 0.9110234465328226)\n"
     ]
    },
    {
     "name": "stderr",
     "output_type": "stream",
     "text": [
      "100%|██████████| 4/4 [00:26<00:00,  6.39s/it]\n",
      "  0%|          | 0/4 [00:00<?, ?it/s]"
     ]
    },
    {
     "name": "stdout",
     "output_type": "stream",
     "text": [
      "9.350000000000001: (0.8966427548017282, 0.9096409704144126)\n"
     ]
    },
    {
     "name": "stderr",
     "output_type": "stream",
     "text": [
      "100%|██████████| 4/4 [00:19<00:00,  4.91s/it]\n",
      "  0%|          | 0/4 [00:00<?, ?it/s]"
     ]
    },
    {
     "name": "stdout",
     "output_type": "stream",
     "text": [
      "12.3: (0.8937479080951889, 0.9088474659386693)\n"
     ]
    },
    {
     "name": "stderr",
     "output_type": "stream",
     "text": [
      "100%|██████████| 4/4 [00:20<00:00,  5.05s/it]\n",
      "  0%|          | 0/4 [00:00<?, ?it/s]"
     ]
    },
    {
     "name": "stdout",
     "output_type": "stream",
     "text": [
      "15.25: (0.8921286022351207, 0.9082512931462023)\n"
     ]
    },
    {
     "name": "stderr",
     "output_type": "stream",
     "text": [
      "100%|██████████| 4/4 [00:20<00:00,  5.23s/it]\n",
      "  0%|          | 0/4 [00:00<?, ?it/s]"
     ]
    },
    {
     "name": "stdout",
     "output_type": "stream",
     "text": [
      "18.200000000000003: (0.8911984975740096, 0.9077712418864906)\n"
     ]
    },
    {
     "name": "stderr",
     "output_type": "stream",
     "text": [
      "100%|██████████| 4/4 [00:19<00:00,  4.94s/it]\n",
      "  0%|          | 0/4 [00:00<?, ?it/s]"
     ]
    },
    {
     "name": "stdout",
     "output_type": "stream",
     "text": [
      "21.150000000000002: (0.8906455688657883, 0.9073889722006523)\n"
     ]
    },
    {
     "name": "stderr",
     "output_type": "stream",
     "text": [
      "100%|██████████| 4/4 [00:19<00:00,  4.71s/it]\n",
      "  0%|          | 0/4 [00:00<?, ?it/s]"
     ]
    },
    {
     "name": "stdout",
     "output_type": "stream",
     "text": [
      "24.1: (0.8903006563592988, 0.9070814045453076)\n"
     ]
    },
    {
     "name": "stderr",
     "output_type": "stream",
     "text": [
      "100%|██████████| 4/4 [00:19<00:00,  4.82s/it]\n",
      "  0%|          | 0/4 [00:00<?, ?it/s]"
     ]
    },
    {
     "name": "stdout",
     "output_type": "stream",
     "text": [
      "27.05: (0.8965621010055009, 0.9168197372746651)\n"
     ]
    },
    {
     "name": "stderr",
     "output_type": "stream",
     "text": [
      "100%|██████████| 4/4 [00:17<00:00,  4.50s/it]"
     ]
    },
    {
     "name": "stdout",
     "output_type": "stream",
     "text": [
      "30.0: (0.9240332679780662, 0.9404880677641445)\n"
     ]
    },
    {
     "name": "stderr",
     "output_type": "stream",
     "text": [
      "\n"
     ]
    }
   ],
   "source": [
    "for eta in np.linspace(0.5, 30.0, 11):\n",
    "    update_fn = partial(update.hedge, eta=eta)\n",
    "    losses = evaluate(make_predictor(LOSS_FN, MERGE_FN, update_fn), LOSS_FN)\n",
    "    print(f\"{eta}: {losses['first_loss'], losses['final_loss']}\")"
   ]
  },
  {
   "cell_type": "markdown",
   "metadata": {},
   "source": [
    "## Fixed share"
   ]
  },
  {
   "cell_type": "code",
   "execution_count": 20,
   "metadata": {
    "scrolled": false
   },
   "outputs": [
    {
     "name": "stderr",
     "output_type": "stream",
     "text": [
      "100%|██████████| 4/4 [00:56<00:00, 14.29s/it]\n",
      "  0%|          | 0/4 [00:00<?, ?it/s]"
     ]
    },
    {
     "name": "stdout",
     "output_type": "stream",
     "text": [
      "0.5, 0.0: (0.9320335841461582, 0.9309752144307468)\n"
     ]
    },
    {
     "name": "stderr",
     "output_type": "stream",
     "text": [
      "100%|██████████| 4/4 [00:54<00:00, 13.73s/it]\n",
      "  0%|          | 0/4 [00:00<?, ?it/s]"
     ]
    },
    {
     "name": "stdout",
     "output_type": "stream",
     "text": [
      "3.45, 0.0: (0.9111900429099099, 0.9140675746004779)\n"
     ]
    },
    {
     "name": "stderr",
     "output_type": "stream",
     "text": [
      "100%|██████████| 4/4 [00:49<00:00, 12.36s/it]\n",
      "  0%|          | 0/4 [00:00<?, ?it/s]"
     ]
    },
    {
     "name": "stdout",
     "output_type": "stream",
     "text": [
      "6.4, 0.0: (0.9018098211801837, 0.9110234465328226)\n"
     ]
    },
    {
     "name": "stderr",
     "output_type": "stream",
     "text": [
      "100%|██████████| 4/4 [00:50<00:00, 12.80s/it]\n",
      "  0%|          | 0/4 [00:00<?, ?it/s]"
     ]
    },
    {
     "name": "stdout",
     "output_type": "stream",
     "text": [
      "9.350000000000001, 0.0: (0.8966427548017282, 0.9096409704144126)\n"
     ]
    },
    {
     "name": "stderr",
     "output_type": "stream",
     "text": [
      "100%|██████████| 4/4 [00:53<00:00, 13.45s/it]\n",
      "  0%|          | 0/4 [00:00<?, ?it/s]"
     ]
    },
    {
     "name": "stdout",
     "output_type": "stream",
     "text": [
      "12.3, 0.0: (0.8937479080951888, 0.9088474659386694)\n"
     ]
    },
    {
     "name": "stderr",
     "output_type": "stream",
     "text": [
      "100%|██████████| 4/4 [00:55<00:00, 13.88s/it]\n",
      "  0%|          | 0/4 [00:00<?, ?it/s]"
     ]
    },
    {
     "name": "stdout",
     "output_type": "stream",
     "text": [
      "15.25, 0.0: (0.8921286022351207, 0.9082512931462022)\n"
     ]
    },
    {
     "name": "stderr",
     "output_type": "stream",
     "text": [
      "100%|██████████| 4/4 [00:55<00:00, 13.90s/it]\n",
      "  0%|          | 0/4 [00:00<?, ?it/s]"
     ]
    },
    {
     "name": "stdout",
     "output_type": "stream",
     "text": [
      "18.200000000000003, 0.0: (0.8911984975740095, 0.9077712418864906)\n"
     ]
    },
    {
     "name": "stderr",
     "output_type": "stream",
     "text": [
      "100%|██████████| 4/4 [00:50<00:00, 12.73s/it]\n",
      "  0%|          | 0/4 [00:00<?, ?it/s]"
     ]
    },
    {
     "name": "stdout",
     "output_type": "stream",
     "text": [
      "21.150000000000002, 0.0: (0.8906455688657882, 0.9073889722006524)\n"
     ]
    },
    {
     "name": "stderr",
     "output_type": "stream",
     "text": [
      "100%|██████████| 4/4 [00:56<00:00, 14.11s/it]\n",
      "  0%|          | 0/4 [00:00<?, ?it/s]"
     ]
    },
    {
     "name": "stdout",
     "output_type": "stream",
     "text": [
      "24.1, 0.0: (0.8903006563592989, 0.9070814045453076)\n"
     ]
    },
    {
     "name": "stderr",
     "output_type": "stream",
     "text": [
      "100%|██████████| 4/4 [00:54<00:00, 13.70s/it]\n",
      "  0%|          | 0/4 [00:00<?, ?it/s]"
     ]
    },
    {
     "name": "stdout",
     "output_type": "stream",
     "text": [
      "27.05, 0.0: (0.8965620179169522, 0.922739307584413)\n"
     ]
    },
    {
     "name": "stderr",
     "output_type": "stream",
     "text": [
      "100%|██████████| 4/4 [00:55<00:00, 14.03s/it]\n",
      "  0%|          | 0/4 [00:00<?, ?it/s]"
     ]
    },
    {
     "name": "stdout",
     "output_type": "stream",
     "text": [
      "30.0, 0.0: (0.9271393491555944, 0.9434273047227799)\n"
     ]
    },
    {
     "name": "stderr",
     "output_type": "stream",
     "text": [
      "100%|██████████| 4/4 [00:52<00:00, 13.24s/it]\n",
      "  0%|          | 0/4 [00:00<?, ?it/s]"
     ]
    },
    {
     "name": "stdout",
     "output_type": "stream",
     "text": [
      "0.5, 0.1: (0.9340748129286007, 0.9328115531050174)\n"
     ]
    },
    {
     "name": "stderr",
     "output_type": "stream",
     "text": [
      "100%|██████████| 4/4 [00:53<00:00, 13.36s/it]\n",
      "  0%|          | 0/4 [00:00<?, ?it/s]"
     ]
    },
    {
     "name": "stdout",
     "output_type": "stream",
     "text": [
      "3.45, 0.1: (0.9202069134801822, 0.9157956488648592)\n"
     ]
    },
    {
     "name": "stderr",
     "output_type": "stream",
     "text": [
      "100%|██████████| 4/4 [00:54<00:00, 13.65s/it]\n",
      "  0%|          | 0/4 [00:00<?, ?it/s]"
     ]
    },
    {
     "name": "stdout",
     "output_type": "stream",
     "text": [
      "6.4, 0.1: (0.9108892114042051, 0.9088641285991379)\n"
     ]
    },
    {
     "name": "stderr",
     "output_type": "stream",
     "text": [
      "100%|██████████| 4/4 [00:50<00:00, 12.65s/it]\n",
      "  0%|          | 0/4 [00:00<?, ?it/s]"
     ]
    },
    {
     "name": "stdout",
     "output_type": "stream",
     "text": [
      "9.350000000000001, 0.1: (0.9053321346239199, 0.9057513198269953)\n"
     ]
    },
    {
     "name": "stderr",
     "output_type": "stream",
     "text": [
      "100%|██████████| 4/4 [00:49<00:00, 12.42s/it]\n",
      "  0%|          | 0/4 [00:00<?, ?it/s]"
     ]
    },
    {
     "name": "stdout",
     "output_type": "stream",
     "text": [
      "12.3, 0.1: (0.9016907913184022, 0.9040934578339402)\n"
     ]
    },
    {
     "name": "stderr",
     "output_type": "stream",
     "text": [
      "100%|██████████| 4/4 [00:49<00:00, 12.47s/it]\n",
      "  0%|          | 0/4 [00:00<?, ?it/s]"
     ]
    },
    {
     "name": "stdout",
     "output_type": "stream",
     "text": [
      "15.25, 0.1: (0.8991934109169812, 0.9029678071577267)\n"
     ]
    },
    {
     "name": "stderr",
     "output_type": "stream",
     "text": [
      "100%|██████████| 4/4 [00:52<00:00, 12.98s/it]\n",
      "  0%|          | 0/4 [00:00<?, ?it/s]"
     ]
    },
    {
     "name": "stdout",
     "output_type": "stream",
     "text": [
      "18.200000000000003, 0.1: (0.8974037237261061, 0.902389494726517)\n"
     ]
    },
    {
     "name": "stderr",
     "output_type": "stream",
     "text": [
      "100%|██████████| 4/4 [00:55<00:00, 14.03s/it]\n",
      "  0%|          | 0/4 [00:00<?, ?it/s]"
     ]
    },
    {
     "name": "stdout",
     "output_type": "stream",
     "text": [
      "21.150000000000002, 0.1: (0.8960467221470015, 0.9020781424917437)\n"
     ]
    },
    {
     "name": "stderr",
     "output_type": "stream",
     "text": [
      "100%|██████████| 4/4 [00:55<00:00, 14.12s/it]\n",
      "  0%|          | 0/4 [00:00<?, ?it/s]"
     ]
    },
    {
     "name": "stdout",
     "output_type": "stream",
     "text": [
      "24.1, 0.1: (0.8949729872231619, 0.9017667540994386)\n"
     ]
    },
    {
     "name": "stderr",
     "output_type": "stream",
     "text": [
      "100%|██████████| 4/4 [00:55<00:00, 14.00s/it]\n",
      "  0%|          | 0/4 [00:00<?, ?it/s]"
     ]
    },
    {
     "name": "stdout",
     "output_type": "stream",
     "text": [
      "27.05, 0.1: (0.8965693650683448, 0.9023928613997855)\n"
     ]
    },
    {
     "name": "stderr",
     "output_type": "stream",
     "text": [
      "100%|██████████| 4/4 [00:51<00:00, 13.03s/it]\n",
      "  0%|          | 0/4 [00:00<?, ?it/s]"
     ]
    },
    {
     "name": "stdout",
     "output_type": "stream",
     "text": [
      "30.0, 0.1: (0.9202033191876429, 0.926949851728075)\n"
     ]
    },
    {
     "name": "stderr",
     "output_type": "stream",
     "text": [
      "100%|██████████| 4/4 [00:58<00:00, 14.42s/it]\n",
      "  0%|          | 0/4 [00:00<?, ?it/s]"
     ]
    },
    {
     "name": "stdout",
     "output_type": "stream",
     "text": [
      "0.5, 0.2: (0.9348362284618731, 0.93396208137087)\n"
     ]
    },
    {
     "name": "stderr",
     "output_type": "stream",
     "text": [
      "100%|██████████| 4/4 [00:54<00:00, 13.54s/it]\n",
      "  0%|          | 0/4 [00:00<?, ?it/s]"
     ]
    },
    {
     "name": "stdout",
     "output_type": "stream",
     "text": [
      "3.45, 0.2: (0.9245928605411008, 0.9206242593631826)\n"
     ]
    },
    {
     "name": "stderr",
     "output_type": "stream",
     "text": [
      "100%|██████████| 4/4 [00:50<00:00, 12.55s/it]\n",
      "  0%|          | 0/4 [00:00<?, ?it/s]"
     ]
    },
    {
     "name": "stdout",
     "output_type": "stream",
     "text": [
      "6.4, 0.2: (0.9160231335713745, 0.9141056695413055)\n"
     ]
    },
    {
     "name": "stderr",
     "output_type": "stream",
     "text": [
      "100%|██████████| 4/4 [00:55<00:00, 13.84s/it]\n",
      "  0%|          | 0/4 [00:00<?, ?it/s]"
     ]
    },
    {
     "name": "stdout",
     "output_type": "stream",
     "text": [
      "9.350000000000001, 0.2: (0.9105868812683957, 0.9111041843572687)\n"
     ]
    },
    {
     "name": "stderr",
     "output_type": "stream",
     "text": [
      "100%|██████████| 4/4 [00:54<00:00, 13.41s/it]\n",
      "  0%|          | 0/4 [00:00<?, ?it/s]"
     ]
    },
    {
     "name": "stdout",
     "output_type": "stream",
     "text": [
      "12.3, 0.2: (0.9069813936885658, 0.9093029939952163)\n"
     ]
    },
    {
     "name": "stderr",
     "output_type": "stream",
     "text": [
      "100%|██████████| 4/4 [00:49<00:00, 12.43s/it]\n",
      "  0%|          | 0/4 [00:00<?, ?it/s]"
     ]
    },
    {
     "name": "stdout",
     "output_type": "stream",
     "text": [
      "15.25, 0.2: (0.9044545044484659, 0.9080549904022216)\n"
     ]
    },
    {
     "name": "stderr",
     "output_type": "stream",
     "text": [
      "100%|██████████| 4/4 [00:53<00:00, 13.42s/it]\n",
      "  0%|          | 0/4 [00:00<?, ?it/s]"
     ]
    },
    {
     "name": "stdout",
     "output_type": "stream",
     "text": [
      "18.200000000000003, 0.2: (0.9025517886079506, 0.9071168284028053)\n"
     ]
    },
    {
     "name": "stderr",
     "output_type": "stream",
     "text": [
      "100%|██████████| 4/4 [00:51<00:00, 12.76s/it]\n",
      "  0%|          | 0/4 [00:00<?, ?it/s]"
     ]
    },
    {
     "name": "stdout",
     "output_type": "stream",
     "text": [
      "21.150000000000002, 0.2: (0.9011248789475406, 0.9063362866022099)\n"
     ]
    },
    {
     "name": "stderr",
     "output_type": "stream",
     "text": [
      "100%|██████████| 4/4 [00:53<00:00, 13.24s/it]\n",
      "  0%|          | 0/4 [00:00<?, ?it/s]"
     ]
    },
    {
     "name": "stdout",
     "output_type": "stream",
     "text": [
      "24.1, 0.2: (0.9000961556922614, 0.9056996774047079)\n"
     ]
    },
    {
     "name": "stderr",
     "output_type": "stream",
     "text": [
      "100%|██████████| 4/4 [00:55<00:00, 14.05s/it]\n",
      "  0%|          | 0/4 [00:00<?, ?it/s]"
     ]
    },
    {
     "name": "stdout",
     "output_type": "stream",
     "text": [
      "27.05, 0.2: (0.9016191252850214, 0.9062797892373561)\n"
     ]
    },
    {
     "name": "stderr",
     "output_type": "stream",
     "text": [
      "100%|██████████| 4/4 [01:02<00:00, 15.35s/it]\n",
      "  0%|          | 0/4 [00:00<?, ?it/s]"
     ]
    },
    {
     "name": "stdout",
     "output_type": "stream",
     "text": [
      "30.0, 0.2: (0.9243930719121319, 0.929096747994321)\n"
     ]
    },
    {
     "name": "stderr",
     "output_type": "stream",
     "text": [
      "100%|██████████| 4/4 [00:57<00:00, 14.07s/it]\n",
      "  0%|          | 0/4 [00:00<?, ?it/s]"
     ]
    },
    {
     "name": "stdout",
     "output_type": "stream",
     "text": [
      "0.5, 0.30000000000000004: (0.9352917480251672, 0.9347047266299175)\n"
     ]
    },
    {
     "name": "stderr",
     "output_type": "stream",
     "text": [
      "100%|██████████| 4/4 [01:02<00:00, 15.52s/it]\n",
      "  0%|          | 0/4 [00:00<?, ?it/s]"
     ]
    },
    {
     "name": "stdout",
     "output_type": "stream",
     "text": [
      "3.45, 0.30000000000000004: (0.9275008867047957, 0.924553039898013)\n"
     ]
    },
    {
     "name": "stderr",
     "output_type": "stream",
     "text": [
      "100%|██████████| 4/4 [00:58<00:00, 14.36s/it]\n",
      "  0%|          | 0/4 [00:00<?, ?it/s]"
     ]
    },
    {
     "name": "stdout",
     "output_type": "stream",
     "text": [
      "6.4, 0.30000000000000004: (0.920260402746693, 0.9186942641528448)\n"
     ]
    },
    {
     "name": "stderr",
     "output_type": "stream",
     "text": [
      "100%|██████████| 4/4 [01:02<00:00, 15.33s/it]\n",
      "  0%|          | 0/4 [00:00<?, ?it/s]"
     ]
    },
    {
     "name": "stdout",
     "output_type": "stream",
     "text": [
      "9.350000000000001, 0.30000000000000004: (0.9151937779164949, 0.9156665901745265)\n"
     ]
    },
    {
     "name": "stderr",
     "output_type": "stream",
     "text": [
      "100%|██████████| 4/4 [00:59<00:00, 15.27s/it]\n",
      "  0%|          | 0/4 [00:00<?, ?it/s]"
     ]
    },
    {
     "name": "stdout",
     "output_type": "stream",
     "text": [
      "12.3, 0.30000000000000004: (0.9117200190689531, 0.913727197845103)\n"
     ]
    },
    {
     "name": "stderr",
     "output_type": "stream",
     "text": [
      "100%|██████████| 4/4 [00:55<00:00, 13.56s/it]\n",
      "  0%|          | 0/4 [00:00<?, ?it/s]"
     ]
    },
    {
     "name": "stdout",
     "output_type": "stream",
     "text": [
      "15.25, 0.30000000000000004: (0.909222142094137, 0.9122821083596342)\n"
     ]
    },
    {
     "name": "stderr",
     "output_type": "stream",
     "text": [
      "100%|██████████| 4/4 [00:51<00:00, 13.08s/it]\n",
      "  0%|          | 0/4 [00:00<?, ?it/s]"
     ]
    },
    {
     "name": "stdout",
     "output_type": "stream",
     "text": [
      "18.200000000000003, 0.30000000000000004: (0.9073834699990575, 0.9111384130853986)\n"
     ]
    },
    {
     "name": "stderr",
     "output_type": "stream",
     "text": [
      "100%|██████████| 4/4 [00:50<00:00, 12.55s/it]\n",
      "  0%|          | 0/4 [00:00<?, ?it/s]"
     ]
    },
    {
     "name": "stdout",
     "output_type": "stream",
     "text": [
      "21.150000000000002, 0.30000000000000004: (0.9060693693503578, 0.9102450774908631)\n"
     ]
    },
    {
     "name": "stderr",
     "output_type": "stream",
     "text": [
      "100%|██████████| 4/4 [00:49<00:00, 12.45s/it]\n",
      "  0%|          | 0/4 [00:00<?, ?it/s]"
     ]
    },
    {
     "name": "stdout",
     "output_type": "stream",
     "text": [
      "24.1, 0.30000000000000004: (0.9051337269946181, 0.9095662930112592)\n"
     ]
    },
    {
     "name": "stderr",
     "output_type": "stream",
     "text": [
      "100%|██████████| 4/4 [00:48<00:00, 12.24s/it]\n",
      "  0%|          | 0/4 [00:00<?, ?it/s]"
     ]
    },
    {
     "name": "stdout",
     "output_type": "stream",
     "text": [
      "27.05, 0.30000000000000004: (0.9064229899096805, 0.9100807534381651)\n"
     ]
    },
    {
     "name": "stderr",
     "output_type": "stream",
     "text": [
      "100%|██████████| 4/4 [00:53<00:00, 13.37s/it]\n",
      "  0%|          | 0/4 [00:00<?, ?it/s]"
     ]
    },
    {
     "name": "stdout",
     "output_type": "stream",
     "text": [
      "30.0, 0.30000000000000004: (0.9280910828576858, 0.931697558046199)\n"
     ]
    },
    {
     "name": "stderr",
     "output_type": "stream",
     "text": [
      "100%|██████████| 4/4 [01:04<00:00, 16.18s/it]\n",
      "  0%|          | 0/4 [00:00<?, ?it/s]"
     ]
    },
    {
     "name": "stdout",
     "output_type": "stream",
     "text": [
      "0.5, 0.4: (0.9356160997232167, 0.935217857995476)\n"
     ]
    },
    {
     "name": "stderr",
     "output_type": "stream",
     "text": [
      "100%|██████████| 4/4 [00:59<00:00, 14.94s/it]\n",
      "  0%|          | 0/4 [00:00<?, ?it/s]"
     ]
    },
    {
     "name": "stdout",
     "output_type": "stream",
     "text": [
      "3.45, 0.4: (0.9297025781201002, 0.9275778305668643)\n"
     ]
    },
    {
     "name": "stderr",
     "output_type": "stream",
     "text": [
      "100%|██████████| 4/4 [00:54<00:00, 13.58s/it]\n",
      "  0%|          | 0/4 [00:00<?, ?it/s]"
     ]
    },
    {
     "name": "stdout",
     "output_type": "stream",
     "text": [
      "6.4, 0.4: (0.9237646142839423, 0.9225678328606752)\n"
     ]
    },
    {
     "name": "stderr",
     "output_type": "stream",
     "text": [
      "100%|██████████| 4/4 [00:48<00:00, 12.23s/it]\n",
      "  0%|          | 0/4 [00:00<?, ?it/s]"
     ]
    },
    {
     "name": "stdout",
     "output_type": "stream",
     "text": [
      "9.350000000000001, 0.4: (0.9192670589763672, 0.9196428567678314)\n"
     ]
    },
    {
     "name": "stderr",
     "output_type": "stream",
     "text": [
      "100%|██████████| 4/4 [00:55<00:00, 14.22s/it]\n",
      "  0%|          | 0/4 [00:00<?, ?it/s]"
     ]
    },
    {
     "name": "stdout",
     "output_type": "stream",
     "text": [
      "12.3, 0.4: (0.9160532195607302, 0.9176631589603408)\n"
     ]
    },
    {
     "name": "stderr",
     "output_type": "stream",
     "text": [
      "100%|██████████| 4/4 [00:59<00:00, 15.05s/it]\n",
      "  0%|          | 0/4 [00:00<?, ?it/s]"
     ]
    },
    {
     "name": "stdout",
     "output_type": "stream",
     "text": [
      "15.25, 0.4: (0.9137298560412351, 0.9161698221529606)\n"
     ]
    },
    {
     "name": "stderr",
     "output_type": "stream",
     "text": [
      "100%|██████████| 4/4 [00:58<00:00, 14.74s/it]\n",
      "  0%|          | 0/4 [00:00<?, ?it/s]"
     ]
    },
    {
     "name": "stdout",
     "output_type": "stream",
     "text": [
      "18.200000000000003, 0.4: (0.9120659393330147, 0.9150167254927796)\n"
     ]
    },
    {
     "name": "stderr",
     "output_type": "stream",
     "text": [
      "100%|██████████| 4/4 [00:56<00:00, 14.36s/it]\n",
      "  0%|          | 0/4 [00:00<?, ?it/s]"
     ]
    },
    {
     "name": "stdout",
     "output_type": "stream",
     "text": [
      "21.150000000000002, 0.4: (0.9108902114182688, 0.9141419599420555)\n"
     ]
    },
    {
     "name": "stderr",
     "output_type": "stream",
     "text": [
      "100%|██████████| 4/4 [01:07<00:00, 16.98s/it]\n",
      "  0%|          | 0/4 [00:00<?, ?it/s]"
     ]
    },
    {
     "name": "stdout",
     "output_type": "stream",
     "text": [
      "24.1, 0.4: (0.9100408419896059, 0.9134839943159885)\n"
     ]
    },
    {
     "name": "stderr",
     "output_type": "stream",
     "text": [
      "100%|██████████| 4/4 [00:59<00:00, 15.11s/it]\n",
      "  0%|          | 0/4 [00:00<?, ?it/s]"
     ]
    },
    {
     "name": "stdout",
     "output_type": "stream",
     "text": [
      "27.05, 0.4: (0.9112769962740321, 0.9140422242145191)\n"
     ]
    },
    {
     "name": "stderr",
     "output_type": "stream",
     "text": [
      "100%|██████████| 4/4 [01:00<00:00, 15.10s/it]\n",
      "  0%|          | 0/4 [00:00<?, ?it/s]"
     ]
    },
    {
     "name": "stdout",
     "output_type": "stream",
     "text": [
      "30.0, 0.4: (0.9315988518332379, 0.9344604549216045)\n"
     ]
    },
    {
     "name": "stderr",
     "output_type": "stream",
     "text": [
      "100%|██████████| 4/4 [01:02<00:00, 15.80s/it]\n",
      "  0%|          | 0/4 [00:00<?, ?it/s]"
     ]
    },
    {
     "name": "stdout",
     "output_type": "stream",
     "text": [
      "0.5, 0.5: (0.9358635174308474, 0.9355909493194707)\n"
     ]
    },
    {
     "name": "stderr",
     "output_type": "stream",
     "text": [
      "100%|██████████| 4/4 [01:00<00:00, 15.35s/it]\n",
      "  0%|          | 0/4 [00:00<?, ?it/s]"
     ]
    },
    {
     "name": "stdout",
     "output_type": "stream",
     "text": [
      "3.45, 0.5: (0.931465911361683, 0.9299346130570477)\n"
     ]
    },
    {
     "name": "stderr",
     "output_type": "stream",
     "text": [
      "100%|██████████| 4/4 [00:58<00:00, 15.02s/it]\n",
      "  0%|          | 0/4 [00:00<?, ?it/s]"
     ]
    },
    {
     "name": "stdout",
     "output_type": "stream",
     "text": [
      "6.4, 0.5: (0.9267428340354645, 0.9258519370021943)\n"
     ]
    },
    {
     "name": "stderr",
     "output_type": "stream",
     "text": [
      "100%|██████████| 4/4 [01:19<00:00, 19.36s/it]\n",
      "  0%|          | 0/4 [00:00<?, ?it/s]"
     ]
    },
    {
     "name": "stdout",
     "output_type": "stream",
     "text": [
      "9.350000000000001, 0.5: (0.9229145239854807, 0.9232157544789029)\n"
     ]
    },
    {
     "name": "stderr",
     "output_type": "stream",
     "text": [
      "100%|██████████| 4/4 [01:03<00:00, 15.76s/it]\n",
      "  0%|          | 0/4 [00:00<?, ?it/s]"
     ]
    },
    {
     "name": "stdout",
     "output_type": "stream",
     "text": [
      "12.3, 0.5: (0.9200995246035942, 0.9213443218054214)\n"
     ]
    },
    {
     "name": "stderr",
     "output_type": "stream",
     "text": [
      "100%|██████████| 4/4 [00:59<00:00, 14.93s/it]\n",
      "  0%|          | 0/4 [00:00<?, ?it/s]"
     ]
    },
    {
     "name": "stdout",
     "output_type": "stream",
     "text": [
      "15.25, 0.5: (0.9180660363909484, 0.9199325685158356)\n"
     ]
    },
    {
     "name": "stderr",
     "output_type": "stream",
     "text": [
      "100%|██████████| 4/4 [00:59<00:00, 14.79s/it]\n",
      "  0%|          | 0/4 [00:00<?, ?it/s]"
     ]
    },
    {
     "name": "stdout",
     "output_type": "stream",
     "text": [
      "18.200000000000003, 0.5: (0.9166181547252769, 0.9188572530553383)\n"
     ]
    },
    {
     "name": "stderr",
     "output_type": "stream",
     "text": [
      "100%|██████████| 4/4 [00:59<00:00, 14.77s/it]\n",
      "  0%|          | 0/4 [00:00<?, ?it/s]"
     ]
    },
    {
     "name": "stdout",
     "output_type": "stream",
     "text": [
      "21.150000000000002, 0.5: (0.9155850376299074, 0.9180452135154558)\n"
     ]
    },
    {
     "name": "stderr",
     "output_type": "stream",
     "text": [
      "100%|██████████| 4/4 [00:59<00:00, 14.77s/it]\n",
      "  0%|          | 0/4 [00:00<?, ?it/s]"
     ]
    },
    {
     "name": "stdout",
     "output_type": "stream",
     "text": [
      "24.1, 0.5: (0.9148254398261768, 0.9174323986391406)\n"
     ]
    },
    {
     "name": "stderr",
     "output_type": "stream",
     "text": [
      "100%|██████████| 4/4 [01:00<00:00, 15.00s/it]\n",
      "  0%|          | 0/4 [00:00<?, ?it/s]"
     ]
    },
    {
     "name": "stdout",
     "output_type": "stream",
     "text": [
      "27.05, 0.5: (0.9155744103108464, 0.9180728827577083)\n"
     ]
    },
    {
     "name": "stderr",
     "output_type": "stream",
     "text": [
      "100%|██████████| 4/4 [00:59<00:00, 14.88s/it]"
     ]
    },
    {
     "name": "stdout",
     "output_type": "stream",
     "text": [
      "30.0, 0.5: (0.9350052950000417, 0.9373201610779494)\n"
     ]
    },
    {
     "name": "stderr",
     "output_type": "stream",
     "text": [
      "\n"
     ]
    }
   ],
   "source": [
    "for alpha in np.linspace(0, 0.5, 6):\n",
    "    for eta in np.linspace(0.5, 30.0, 11):\n",
    "        update_fn = partial(update.fixed_share, eta=eta, alpha=alpha)\n",
    "        losses = evaluate(make_predictor(LOSS_FN, MERGE_FN, update_fn), LOSS_FN)\n",
    "        print(f\"{eta}, {alpha}: {losses['first_loss'], losses['final_loss']}\")"
   ]
  },
  {
   "cell_type": "code",
   "execution_count": null,
   "metadata": {},
   "outputs": [],
   "source": []
  }
 ],
 "metadata": {
  "kernelspec": {
   "display_name": "Python 3",
   "language": "python",
   "name": "python3"
  },
  "language_info": {
   "codemirror_mode": {
    "name": "ipython",
    "version": 3
   },
   "file_extension": ".py",
   "mimetype": "text/x-python",
   "name": "python",
   "nbconvert_exporter": "python",
   "pygments_lexer": "ipython3",
   "version": "3.6.4"
  }
 },
 "nbformat": 4,
 "nbformat_minor": 2
}
